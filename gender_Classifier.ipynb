{
 "metadata": {
  "language_info": {
   "codemirror_mode": {
    "name": "ipython",
    "version": 3
   },
   "file_extension": ".py",
   "mimetype": "text/x-python",
   "name": "python",
   "nbconvert_exporter": "python",
   "pygments_lexer": "ipython3",
   "version": "3.8.5-final"
  },
  "orig_nbformat": 2,
  "kernelspec": {
   "name": "python3",
   "display_name": "Python 3.8.5 64-bit ('base': conda)",
   "metadata": {
    "interpreter": {
     "hash": "8913257fe59316acfbfe20e48e79438954bcc5c87fb6482275fbb55fd879b431"
    }
   }
  }
 },
 "nbformat": 4,
 "nbformat_minor": 2,
 "cells": [
  {
   "cell_type": "code",
   "execution_count": 10,
   "metadata": {},
   "outputs": [
    {
     "output_type": "stream",
     "name": "stderr",
     "text": [
      "[nltk_data] Downloading package names to\n",
      "[nltk_data]     C:\\Users\\nax\\AppData\\Roaming\\nltk_data...\n",
      "[nltk_data]   Unzipping corpora\\names.zip.\n"
     ]
    },
    {
     "output_type": "execute_result",
     "data": {
      "text/plain": [
       "True"
      ]
     },
     "metadata": {},
     "execution_count": 10
    }
   ],
   "source": [
    "import nltk\n",
    "from nltk import NaiveBayesClassifier\n",
    "from nltk.corpus import names\n",
    "import random\n",
    "nltk.download('names')"
   ]
  },
  {
   "cell_type": "code",
   "execution_count": 11,
   "metadata": {},
   "outputs": [],
   "source": [
    "def gender_features(word): \n",
    "    \"\"\"\n",
    "    >>> gender_features('Max')  # feature: \n",
    "    {'last_letter': 'k'}\n",
    "    \"\"\"\n",
    "    return {'last_letter': word[-1]}"
   ]
  },
  {
   "cell_type": "code",
   "execution_count": 12,
   "metadata": {},
   "outputs": [
    {
     "output_type": "stream",
     "name": "stdout",
     "text": [
      "[('Yank', 'male'), ('Faun', 'female'), ('Vanny', 'female')]\n[({'last_letter': 'k'}, 'male'), ({'last_letter': 'n'}, 'female'), ({'last_letter': 'y'}, 'female')]\n"
     ]
    }
   ],
   "source": [
    "names = ([(name, 'male') for name in names.words('male.txt')] +\n",
    "         [(name, 'female') for name in names.words('female.txt')])\n",
    "random.shuffle(names)\n",
    "print(names[:3])\n",
    "\n",
    "feature_sets = [(gender_features(n), g) for (n, g) in names]\n",
    "print(feature_sets[:3])\n",
    "train_set, test_set = feature_sets[500:], feature_sets[:500]"
   ]
  },
  {
   "cell_type": "code",
   "execution_count": 13,
   "metadata": {},
   "outputs": [
    {
     "output_type": "stream",
     "name": "stdout",
     "text": [
      "male\nfemale\n0.732\nMost Informative Features\n             last_letter = 'k'              male : female =     44.1 : 1.0\n             last_letter = 'a'            female : male   =     34.6 : 1.0\n             last_letter = 'f'              male : female =     13.1 : 1.0\n             last_letter = 'p'              male : female =     11.1 : 1.0\n             last_letter = 'v'              male : female =     10.4 : 1.0\nNone\n"
     ]
    }
   ],
   "source": [
    "classifier = NaiveBayesClassifier.train(train_set)\n",
    "print(classifier.classify(gender_features('Neo')))\n",
    "print(classifier.classify(gender_features('Trinity')))\n",
    "print(nltk.classify.accuracy(classifier, test_set))\n",
    "print(classifier.show_most_informative_features(5))\n"
   ]
  },
  {
   "cell_type": "code",
   "execution_count": 14,
   "metadata": {},
   "outputs": [],
   "source": [
    "from nltk.classify import apply_features\n",
    "train_set = apply_features(gender_features, names[500:])\n",
    "test_set = apply_features(gender_features, names[:500])"
   ]
  },
  {
   "cell_type": "code",
   "execution_count": 15,
   "metadata": {},
   "outputs": [],
   "source": [
    "from collections import OrderedDict\n",
    "from string import ascii_lowercase\n",
    "\n",
    "def gender_features2(name):\n",
    "    features = OrderedDict()\n",
    "    features['firstletter'] = name[0].lower()\n",
    "    features['lastletter'] = name[-1].lower()\n",
    "    for letter in ascii_lowercase:\n",
    "        features['count(%s)' % letter] = name.lower().count(letter)\n",
    "        features['has(%s)' % letter] = letter in name.lower()\n",
    "    return features"
   ]
  },
  {
   "cell_type": "code",
   "execution_count": 16,
   "metadata": {},
   "outputs": [
    {
     "output_type": "execute_result",
     "data": {
      "text/plain": [
       "0.754"
      ]
     },
     "metadata": {},
     "execution_count": 16
    }
   ],
   "source": [
    "feature_sets2 = [(gender_features2(n), g) for (n, g) in names]\n",
    "train_set, test_set = feature_sets2[500:], feature_sets2[:500]\n",
    "classifier = NaiveBayesClassifier.train(train_set)\n",
    "nltk.classify.accuracy(classifier, test_set)\n"
   ]
  },
  {
   "cell_type": "code",
   "execution_count": 17,
   "metadata": {},
   "outputs": [
    {
     "output_type": "stream",
     "name": "stdout",
     "text": [
      "0.732\n"
     ]
    }
   ],
   "source": [
    "\n",
    "train_names = names[1500:]\n",
    "devtest_names = names[500:1500]\n",
    "test_names = names[:500]\n",
    "\n",
    "train_set = [(gender_features(n), g) for (n, g) in train_names]\n",
    "devtest_set = [(gender_features(n), g) for (n, g) in devtest_names]\n",
    "test_set = [(gender_features(n), g) for (n, g) in test_names]\n",
    "classifier = NaiveBayesClassifier.train(train_set)\n",
    "print(nltk.classify.accuracy(classifier, test_set))\n"
   ]
  },
  {
   "cell_type": "code",
   "execution_count": 18,
   "metadata": {},
   "outputs": [
    {
     "output_type": "stream",
     "name": "stdout",
     "text": [
      "[('female', 'male', 'Charo'), ('male', 'female', 'Sidnee'), ('male', 'female', 'Jeremie'), ('female', 'male', 'Annabal'), ('male', 'female', 'Abbie'), ('male', 'female', 'Spense'), ('female', 'male', 'Beitris'), ('male', 'female', 'Towny'), ('female', 'male', 'Gwendolyn'), ('female', 'male', 'Jesselyn')]\n"
     ]
    }
   ],
   "source": [
    "errors = []\n",
    "for (name, tag) in devtest_names:\n",
    "    guess = classifier.classify(gender_features(name))\n",
    "    if guess != tag:\n",
    "        errors.append((tag, guess, name))\n",
    "print(errors[:10])\n",
    "\n",
    "def gender_features3(word):\n",
    "    \"\"\"\n",
    "    >>> gender_features3('Shrek')\n",
    "    {'suffix2': 'ek', 'suffix1': 'k'}\n",
    "    \"\"\"\n",
    "    return {'suffix1': word[-1:], 'suffix2': word[-2:]}"
   ]
  },
  {
   "cell_type": "code",
   "execution_count": 19,
   "metadata": {},
   "outputs": [
    {
     "output_type": "stream",
     "name": "stdout",
     "text": [
      "0.752\n"
     ]
    }
   ],
   "source": [
    "train_set = [(gender_features3(n), g) for (n, g) in train_names]\n",
    "devtest_set = [(gender_features3(n), g) for (n, g) in devtest_names]\n",
    "test_set = [(gender_features3(n), g) for (n, g) in test_names]\n",
    "classifier = NaiveBayesClassifier.train(train_set)\n",
    "print(nltk.classify.accuracy(classifier, test_set))"
   ]
  }
 ]
}